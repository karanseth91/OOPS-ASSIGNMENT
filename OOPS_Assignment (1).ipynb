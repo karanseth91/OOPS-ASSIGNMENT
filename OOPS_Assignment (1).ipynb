{
  "cells": [
    {
      "cell_type": "markdown",
      "id": "a333e83d",
      "metadata": {
        "id": "a333e83d"
      },
      "source": [
        "# OOPS Assignment - Python"
      ]
    },
    {
      "cell_type": "markdown",
      "id": "bb2616de",
      "metadata": {
        "id": "bb2616de"
      },
      "source": [
        "### Q1. What is Object-Oriented Programming (OOP)?"
      ]
    },
    {
      "cell_type": "markdown",
      "id": "37fd9eee",
      "metadata": {
        "id": "37fd9eee"
      },
      "source": [
        "OOP is a programming paradigm based on the concept of **objects**. Objects are instances of classes and can contain both data (attributes) and methods (functions). OOP promotes code reusability, modularity, and abstraction."
      ]
    },
    {
      "cell_type": "markdown",
      "id": "097f74c8",
      "metadata": {
        "id": "097f74c8"
      },
      "source": [
        "### Q2. What is a class in OOP?"
      ]
    },
    {
      "cell_type": "markdown",
      "id": "d5332df3",
      "metadata": {
        "id": "d5332df3"
      },
      "source": [
        "A class is a blueprint or template for creating objects. It defines the attributes and behaviors (methods) that the objects created from the class can have."
      ]
    },
    {
      "cell_type": "markdown",
      "id": "44c66d2f",
      "metadata": {
        "id": "44c66d2f"
      },
      "source": [
        "### Q3. What is an object in OOP?"
      ]
    },
    {
      "cell_type": "markdown",
      "id": "a2fdea66",
      "metadata": {
        "id": "a2fdea66"
      },
      "source": [
        "An object is an instance of a class. It represents a real-world entity and contains data (attributes) and methods (functions) defined in its class."
      ]
    },
    {
      "cell_type": "markdown",
      "id": "f3f634df",
      "metadata": {
        "id": "f3f634df"
      },
      "source": [
        "### Q4. What is the difference between abstraction and encapsulation?"
      ]
    },
    {
      "cell_type": "markdown",
      "id": "c1e20c12",
      "metadata": {
        "id": "c1e20c12"
      },
      "source": [
        "- **Abstraction**: Hides implementation details and shows only essential features (focuses on *what* to do).\n",
        "- **Encapsulation**: Bundles data and methods together, restricting direct access to some components (focuses on *how* data is accessed)."
      ]
    },
    {
      "cell_type": "markdown",
      "id": "38314316",
      "metadata": {
        "id": "38314316"
      },
      "source": [
        "### Q5. What are dunder methods in Python?"
      ]
    },
    {
      "cell_type": "markdown",
      "id": "29efa5c2",
      "metadata": {
        "id": "29efa5c2"
      },
      "source": [
        "Dunder (double underscore) methods are special methods in Python that begin and end with `__`. Examples:\n",
        "- `__init__` (constructor)\n",
        "- `__str__` (string representation)\n",
        "- `__add__` (operator overloading)"
      ]
    },
    {
      "cell_type": "markdown",
      "id": "f17c376c",
      "metadata": {
        "id": "f17c376c"
      },
      "source": [
        "### Q6. Explain the concept of inheritance in OOP."
      ]
    },
    {
      "cell_type": "markdown",
      "id": "10b605c4",
      "metadata": {
        "id": "10b605c4"
      },
      "source": [
        "Inheritance allows a class (child/derived) to acquire the properties and behaviors of another class (parent/base). This promotes code reusability."
      ]
    },
    {
      "cell_type": "markdown",
      "id": "cd9ce097",
      "metadata": {
        "id": "cd9ce097"
      },
      "source": [
        "### Q7. What is polymorphism in OOP?"
      ]
    },
    {
      "cell_type": "markdown",
      "id": "614953d9",
      "metadata": {
        "id": "614953d9"
      },
      "source": [
        "Polymorphism means “many forms.” It allows the same function or method name to behave differently depending on the object."
      ]
    },
    {
      "cell_type": "markdown",
      "id": "dd873496",
      "metadata": {
        "id": "dd873496"
      },
      "source": [
        "### Q8. How is encapsulation achieved in Python?"
      ]
    },
    {
      "cell_type": "markdown",
      "id": "7bc26fa8",
      "metadata": {
        "id": "7bc26fa8"
      },
      "source": [
        "Encapsulation is achieved using private attributes and methods (by prefixing with `_` or `__`) and by providing public getter/setter methods."
      ]
    },
    {
      "cell_type": "markdown",
      "id": "a1ee5241",
      "metadata": {
        "id": "a1ee5241"
      },
      "source": [
        "### Q9. What is a constructor in Python?"
      ]
    },
    {
      "cell_type": "markdown",
      "id": "dbc9c0f0",
      "metadata": {
        "id": "dbc9c0f0"
      },
      "source": [
        "A constructor is a special method `__init__` that is automatically called when an object is created. It initializes the attributes of the object."
      ]
    },
    {
      "cell_type": "markdown",
      "id": "19dd38df",
      "metadata": {
        "id": "19dd38df"
      },
      "source": [
        "### Q10. What are class and static methods in Python?"
      ]
    },
    {
      "cell_type": "markdown",
      "id": "db366289",
      "metadata": {
        "id": "db366289"
      },
      "source": [
        "- **Class method (`@classmethod`)**: Operates on the class itself, takes `cls` as first parameter.\n",
        "- **Static method (`@staticmethod`)**: Belongs to the class but does not use class or instance variables."
      ]
    },
    {
      "cell_type": "markdown",
      "id": "9b29a0bb",
      "metadata": {
        "id": "9b29a0bb"
      },
      "source": [
        "### Q11. What is method overloading in Python?"
      ]
    },
    {
      "cell_type": "markdown",
      "id": "455febdd",
      "metadata": {
        "id": "455febdd"
      },
      "source": [
        "Python does not support traditional method overloading. Instead, it can be achieved using default arguments or variable-length arguments (`*args`)."
      ]
    },
    {
      "cell_type": "markdown",
      "id": "a5d31a44",
      "metadata": {
        "id": "a5d31a44"
      },
      "source": [
        "### Q12. What is method overriding in OOP?"
      ]
    },
    {
      "cell_type": "markdown",
      "id": "dca79098",
      "metadata": {
        "id": "dca79098"
      },
      "source": [
        "Method overriding occurs when a child class provides its own implementation of a method already defined in the parent class."
      ]
    },
    {
      "cell_type": "markdown",
      "id": "cc7ebea7",
      "metadata": {
        "id": "cc7ebea7"
      },
      "source": [
        "### Q13. What is a property decorator in Python?"
      ]
    },
    {
      "cell_type": "markdown",
      "id": "3eba2cc7",
      "metadata": {
        "id": "3eba2cc7"
      },
      "source": [
        "The `@property` decorator is used to define getter methods in a class, allowing attribute access like normal variables while controlling logic."
      ]
    },
    {
      "cell_type": "markdown",
      "id": "a67aa934",
      "metadata": {
        "id": "a67aa934"
      },
      "source": [
        "### Q14. Why is polymorphism important in OOP?"
      ]
    },
    {
      "cell_type": "markdown",
      "id": "3390a609",
      "metadata": {
        "id": "3390a609"
      },
      "source": [
        "Polymorphism provides flexibility, code reusability, and cleaner interfaces, allowing the same operation to work on different types of objects."
      ]
    },
    {
      "cell_type": "markdown",
      "id": "02da8609",
      "metadata": {
        "id": "02da8609"
      },
      "source": [
        "### Q15. Create a class Product with attributes name, price, and quantity. Implement a method total_price() that calculates the total price of the product."
      ]
    },
    {
      "cell_type": "code",
      "execution_count": null,
      "id": "068bdeaa",
      "metadata": {
        "id": "068bdeaa"
      },
      "outputs": [],
      "source": [
        "class Product:\n",
        "    def __init__(self, name, price, quantity):\n",
        "        self.name = name\n",
        "        self.price = price\n",
        "        self.quantity = quantity\n",
        "\n",
        "    def total_price(self):\n",
        "        return self.price * self.quantity\n",
        "\n",
        "p1 = Product(\"Laptop\", 50000, 2)\n",
        "print(\"Total Price:\", p1.total_price())"
      ]
    },
    {
      "cell_type": "markdown",
      "id": "bdcc879b",
      "metadata": {
        "id": "bdcc879b"
      },
      "source": [
        "### Q16. Create a class Animal with an abstract method sound(). Create two derived classes Cow and Sheep that implement the sound() method."
      ]
    },
    {
      "cell_type": "code",
      "execution_count": null,
      "id": "e6c1ce16",
      "metadata": {
        "id": "e6c1ce16"
      },
      "outputs": [],
      "source": [
        "from abc import ABC, abstractmethod\n",
        "\n",
        "class Animal(ABC):\n",
        "    @abstractmethod\n",
        "    def sound(self):\n",
        "        pass\n",
        "\n",
        "class Cow(Animal):\n",
        "    def sound(self):\n",
        "        return \"Moo\"\n",
        "\n",
        "class Sheep(Animal):\n",
        "    def sound(self):\n",
        "        return \"Baa\"\n",
        "\n",
        "c = Cow()\n",
        "s = Sheep()\n",
        "print(\"Cow Sound:\", c.sound())\n",
        "print(\"Sheep Sound:\", s.sound())"
      ]
    },
    {
      "cell_type": "markdown",
      "id": "337abac1",
      "metadata": {
        "id": "337abac1"
      },
      "source": [
        "### Q17. Create a class Book with attributes title, author, and year_published. Add a method get_book_info() that returns a formatted string with the book's details."
      ]
    },
    {
      "cell_type": "code",
      "execution_count": null,
      "id": "09e21c88",
      "metadata": {
        "id": "09e21c88"
      },
      "outputs": [],
      "source": [
        "class Book:\n",
        "    def __init__(self, title, author, year_published):\n",
        "        self.title = title\n",
        "        self.author = author\n",
        "        self.year_published = year_published\n",
        "\n",
        "    def get_book_info(self):\n",
        "        return f\"'{self.title}' by {self.author}, published in {self.year_published}\"\n",
        "\n",
        "b1 = Book(\"The Alchemist\", \"Paulo Coelho\", 1988)\n",
        "print(b1.get_book_info())"
      ]
    },
    {
      "cell_type": "markdown",
      "id": "62e4221d",
      "metadata": {
        "id": "62e4221d"
      },
      "source": [
        "### Q18. Create a class House with attributes address and price. Create a derived class Mansion that adds an attribute number_of_rooms."
      ]
    },
    {
      "cell_type": "code",
      "execution_count": null,
      "id": "28a44611",
      "metadata": {
        "id": "28a44611"
      },
      "outputs": [],
      "source": [
        "class House:\n",
        "    def __init__(self, address, price):\n",
        "        self.address = address\n",
        "        self.price = price\n",
        "\n",
        "class Mansion(House):\n",
        "    def __init__(self, address, price, number_of_rooms):\n",
        "        super().__init__(address, price)\n",
        "        self.number_of_rooms = number_of_rooms\n",
        "\n",
        "    def display_info(self):\n",
        "        return f\"Mansion at {self.address}, Price: {self.price}, Rooms: {self.number_of_rooms}\"\n",
        "\n",
        "m1 = Mansion(\"Beverly Hills\", 20000000, 10)\n",
        "print(m1.display_info())"
      ]
    }
  ],
  "metadata": {
    "colab": {
      "provenance": []
    }
  },
  "nbformat": 4,
  "nbformat_minor": 5
}